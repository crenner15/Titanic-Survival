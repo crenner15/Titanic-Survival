{
 "cells": [
  {
   "cell_type": "markdown",
   "metadata": {
    "deletable": true,
    "editable": true
   },
   "source": [
    "# Description"
   ]
  },
  {
   "cell_type": "markdown",
   "metadata": {
    "collapsed": true,
    "deletable": true,
    "editable": true
   },
   "source": [
    "The Titanic was a British passenger liner that sank in the North Atlantic Ocean in the early morning of 15 April 1912, after colliding with an iceberg during its maiden voyage from Southampton to New York City. Out of over 2,000 passengers, only 1,500 survived the wreckage.  In this analysis I will be examining the data of passengers who survived the sinking of the Titanic, and how likely one would have been to survive.  First I will be cleaning the data to make sure nothing unusual is occuring, then we will take a look at what type of passengers were most likely to survive the wreckage.\n",
    "\n",
    "Before looking through the analysis, take a guess.  Who do you think is most likely to survive the sinking of the Titanic?"
   ]
  },
  {
   "cell_type": "markdown",
   "metadata": {
    "deletable": true,
    "editable": true
   },
   "source": [
    "# Question"
   ]
  },
  {
   "cell_type": "markdown",
   "metadata": {
    "deletable": true,
    "editable": true
   },
   "source": [
    "The question we will be answering during this project is what are some of the factors leading to survival in the sinking of the Titanic? <br /><br />\n",
    "Curiosity of this question is endless to me and helped me decide to research this topic.  What if there were more women and children to survive? Or maybe more first class passengers who survived?  What if more elderly passenger survived?  <br><br />  Lets research the data and find out!"
   ]
  },
  {
   "cell_type": "code",
   "execution_count": 2,
   "metadata": {
    "collapsed": false,
    "deletable": true,
    "editable": true
   },
   "outputs": [],
   "source": [
    "import matplotlib.pyplot as plt\n",
    "import numpy as np\n",
    "import pandas as pd\n",
    "import seaborn as sns"
   ]
  },
  {
   "cell_type": "code",
   "execution_count": 3,
   "metadata": {
    "collapsed": true,
    "deletable": true,
    "editable": true
   },
   "outputs": [],
   "source": [
    "filepath = '/Users/crenner15/Desktop/Data Science/Udacity/P2-Investigate a Dataset/Project/titanic-data.csv'\n",
    "titanic_df = pd.read_csv(filepath)"
   ]
  },
  {
   "cell_type": "markdown",
   "metadata": {
    "deletable": true,
    "editable": true
   },
   "source": [
    "First, I loaded the data from my laptop with the filepath then labeled the CSV as \"titanic_df.\""
   ]
  },
  {
   "cell_type": "code",
   "execution_count": 4,
   "metadata": {
    "collapsed": false,
    "deletable": true,
    "editable": true
   },
   "outputs": [
    {
     "data": {
      "text/html": [
       "<div>\n",
       "<table border=\"1\" class=\"dataframe\">\n",
       "  <thead>\n",
       "    <tr style=\"text-align: right;\">\n",
       "      <th></th>\n",
       "      <th>PassengerId</th>\n",
       "      <th>Survived</th>\n",
       "      <th>Pclass</th>\n",
       "      <th>Name</th>\n",
       "      <th>Sex</th>\n",
       "      <th>Age</th>\n",
       "      <th>SibSp</th>\n",
       "      <th>Parch</th>\n",
       "      <th>Ticket</th>\n",
       "      <th>Fare</th>\n",
       "      <th>Cabin</th>\n",
       "      <th>Embarked</th>\n",
       "    </tr>\n",
       "  </thead>\n",
       "  <tbody>\n",
       "    <tr>\n",
       "      <th>0</th>\n",
       "      <td>1</td>\n",
       "      <td>0</td>\n",
       "      <td>3</td>\n",
       "      <td>Braund, Mr. Owen Harris</td>\n",
       "      <td>male</td>\n",
       "      <td>22.0</td>\n",
       "      <td>1</td>\n",
       "      <td>0</td>\n",
       "      <td>A/5 21171</td>\n",
       "      <td>7.2500</td>\n",
       "      <td>NaN</td>\n",
       "      <td>S</td>\n",
       "    </tr>\n",
       "    <tr>\n",
       "      <th>1</th>\n",
       "      <td>2</td>\n",
       "      <td>1</td>\n",
       "      <td>1</td>\n",
       "      <td>Cumings, Mrs. John Bradley (Florence Briggs Th...</td>\n",
       "      <td>female</td>\n",
       "      <td>38.0</td>\n",
       "      <td>1</td>\n",
       "      <td>0</td>\n",
       "      <td>PC 17599</td>\n",
       "      <td>71.2833</td>\n",
       "      <td>C85</td>\n",
       "      <td>C</td>\n",
       "    </tr>\n",
       "    <tr>\n",
       "      <th>2</th>\n",
       "      <td>3</td>\n",
       "      <td>1</td>\n",
       "      <td>3</td>\n",
       "      <td>Heikkinen, Miss. Laina</td>\n",
       "      <td>female</td>\n",
       "      <td>26.0</td>\n",
       "      <td>0</td>\n",
       "      <td>0</td>\n",
       "      <td>STON/O2. 3101282</td>\n",
       "      <td>7.9250</td>\n",
       "      <td>NaN</td>\n",
       "      <td>S</td>\n",
       "    </tr>\n",
       "    <tr>\n",
       "      <th>3</th>\n",
       "      <td>4</td>\n",
       "      <td>1</td>\n",
       "      <td>1</td>\n",
       "      <td>Futrelle, Mrs. Jacques Heath (Lily May Peel)</td>\n",
       "      <td>female</td>\n",
       "      <td>35.0</td>\n",
       "      <td>1</td>\n",
       "      <td>0</td>\n",
       "      <td>113803</td>\n",
       "      <td>53.1000</td>\n",
       "      <td>C123</td>\n",
       "      <td>S</td>\n",
       "    </tr>\n",
       "    <tr>\n",
       "      <th>4</th>\n",
       "      <td>5</td>\n",
       "      <td>0</td>\n",
       "      <td>3</td>\n",
       "      <td>Allen, Mr. William Henry</td>\n",
       "      <td>male</td>\n",
       "      <td>35.0</td>\n",
       "      <td>0</td>\n",
       "      <td>0</td>\n",
       "      <td>373450</td>\n",
       "      <td>8.0500</td>\n",
       "      <td>NaN</td>\n",
       "      <td>S</td>\n",
       "    </tr>\n",
       "  </tbody>\n",
       "</table>\n",
       "</div>"
      ],
      "text/plain": [
       "   PassengerId  Survived  Pclass  \\\n",
       "0            1         0       3   \n",
       "1            2         1       1   \n",
       "2            3         1       3   \n",
       "3            4         1       1   \n",
       "4            5         0       3   \n",
       "\n",
       "                                                Name     Sex   Age  SibSp  \\\n",
       "0                            Braund, Mr. Owen Harris    male  22.0      1   \n",
       "1  Cumings, Mrs. John Bradley (Florence Briggs Th...  female  38.0      1   \n",
       "2                             Heikkinen, Miss. Laina  female  26.0      0   \n",
       "3       Futrelle, Mrs. Jacques Heath (Lily May Peel)  female  35.0      1   \n",
       "4                           Allen, Mr. William Henry    male  35.0      0   \n",
       "\n",
       "   Parch            Ticket     Fare Cabin Embarked  \n",
       "0      0         A/5 21171   7.2500   NaN        S  \n",
       "1      0          PC 17599  71.2833   C85        C  \n",
       "2      0  STON/O2. 3101282   7.9250   NaN        S  \n",
       "3      0            113803  53.1000  C123        S  \n",
       "4      0            373450   8.0500   NaN        S  "
      ]
     },
     "execution_count": 4,
     "metadata": {},
     "output_type": "execute_result"
    }
   ],
   "source": [
    "titanic_df.head(n=5)"
   ]
  },
  {
   "cell_type": "markdown",
   "metadata": {
    "deletable": true,
    "editable": true
   },
   "source": [
    "I decided to take a look at the first 5 rows of the data.  This provided me with the columns and gave a little bit more insight on what we will be looking at in this project.  See the below Data Dictionary for an explanation of the columns and data provided."
   ]
  },
  {
   "cell_type": "markdown",
   "metadata": {
    "deletable": true,
    "editable": true
   },
   "source": [
    "# Data Dictionary\n",
    "PassengerId -\t       Passenger ID  <br />\n",
    "survival -\t       Survival  <br />\n",
    "pclass -\t           Ticket class <br />\n",
    "Name -\t               Name of Passenger <br />\n",
    "sex -\t               Sex <br />\n",
    "Age -\t               Age in years\t<br />\n",
    "sibsp -\t           # of siblings / spouses aboard the Titanic\t<br />\n",
    "parch -\t           # of parents / children aboard the Titanic\t<br />\n",
    "ticket -\t           Ticket number\t<br />\n",
    "fare -\t           Passenger fare\t<br />\n",
    "cabin -\t           Cabin number\t<br />\n",
    "embarked -           Port of Embarkation, C = Cherbourg, Q = Queenstown, S = Southampton\t<br />\n",
    "\n",
    "### Key\n",
    "Survival - 0 = No, 1 = Yes <br />\n",
    "PClass - 1 = 1st, 2 = 2nd, 3 = 3rd <br />\n",
    "embarked - C = Cherbourg, Q = Queenstown, S = Southampton\n",
    "\n",
    "### pclass: A proxy for socio-economic status (SES)\n",
    "1st = Upper <br />\n",
    "2nd = Middle <br />\n",
    "3rd = Lower <br />\n",
    "\n",
    "### Other Definitions\n",
    "age: Age is fractional if less than 1. If the age is estimated, is it in the form of xx.5\n",
    "\n",
    "sibsp: The dataset defines family relations in this way... <br />\n",
    "Sibling = brother, sister, stepbrother, stepsister <br />\n",
    "Spouse = husband, wife (mistresses and fiancés were ignored) <br />\n",
    "\n",
    "parch: The dataset defines family relations in this way... <br />\n",
    "Parent = mother, father <br />\n",
    "Child = daughter, son, stepdaughter, stepson <br />\n",
    "Some children travelled only with a nanny, therefore parch=0 for them. <br />"
   ]
  },
  {
   "cell_type": "code",
   "execution_count": 5,
   "metadata": {
    "collapsed": false,
    "deletable": true,
    "editable": true
   },
   "outputs": [
    {
     "name": "stdout",
     "output_type": "stream",
     "text": [
      "<class 'pandas.core.frame.DataFrame'>\n",
      "RangeIndex: 891 entries, 0 to 890\n",
      "Data columns (total 12 columns):\n",
      "PassengerId    891 non-null int64\n",
      "Survived       891 non-null int64\n",
      "Pclass         891 non-null int64\n",
      "Name           891 non-null object\n",
      "Sex            891 non-null object\n",
      "Age            714 non-null float64\n",
      "SibSp          891 non-null int64\n",
      "Parch          891 non-null int64\n",
      "Ticket         891 non-null object\n",
      "Fare           891 non-null float64\n",
      "Cabin          204 non-null object\n",
      "Embarked       889 non-null object\n",
      "dtypes: float64(2), int64(5), object(5)\n",
      "memory usage: 83.6+ KB\n"
     ]
    }
   ],
   "source": [
    "titanic_df.info()"
   ]
  },
  {
   "cell_type": "markdown",
   "metadata": {
    "deletable": true,
    "editable": true
   },
   "source": [
    "The function info() from pandas.DataFrame shows all columns of the file as well as the number of rows in each column of the data.  As you can see, there are 891 entries, but some columns have a lower number appearing in their count.  This is due to NaN data which stand for \"Not a Number\" and is most likely not available data. <br>\n",
    "For my research, I noticed that 3 columns had a lower amount or NaN entrie; Age (741), Cabin (204), and Embarked (889).  Noting that the cabin amount only has 23% of the data, I will not be using this column in my research.  For the other two columns with NaN's, I will be conducting some additional research.  For the Age missing data, I could fill the mean age of passengers.  For embarked, I could fill the mode in for the missing 3 cells."
   ]
  },
  {
   "cell_type": "code",
   "execution_count": 6,
   "metadata": {
    "collapsed": true,
    "deletable": true,
    "editable": true
   },
   "outputs": [],
   "source": [
    "with_age = titanic_df[titanic_df['Age'].notnull()]\n",
    "without_age = titanic_df[titanic_df['Age'].isnull()]"
   ]
  },
  {
   "cell_type": "markdown",
   "metadata": {
    "deletable": true,
    "editable": true
   },
   "source": [
    "For age, I decided the best way to find out if I should use the mean age would be to split the data into two groups, \"with_age\" and \"without_age.\"  I then will look at the T-Test and decide if it is reasonable to replace NaN age with the mean."
   ]
  },
  {
   "cell_type": "code",
   "execution_count": 7,
   "metadata": {
    "collapsed": false,
    "deletable": true,
    "editable": true
   },
   "outputs": [
    {
     "data": {
      "text/plain": [
       "Ttest_indResult(statistic=2.7606993230995345, pvalue=0.0058865348400755626)"
      ]
     },
     "execution_count": 7,
     "metadata": {},
     "output_type": "execute_result"
    }
   ],
   "source": [
    "from scipy.stats import ttest_ind\n",
    "ttest_ind(with_age['Survived'], without_age['Survived']) "
   ]
  },
  {
   "cell_type": "markdown",
   "metadata": {
    "deletable": true,
    "editable": true
   },
   "source": [
    "Now that we have found that there is a significant difference in the data (based on if the passenger survived), we will still implement the mean for NaN age, and make note of this for our study.  We will also delete rows that will not be used and fill in the mode for Embarked NaN's in this step."
   ]
  },
  {
   "cell_type": "code",
   "execution_count": 8,
   "metadata": {
    "collapsed": false,
    "deletable": true,
    "editable": true
   },
   "outputs": [],
   "source": [
    "titanic_df['Age'] = titanic_df['Age'].fillna(titanic_df['Age'].mean())\n",
    "titanic_df['Embarked'] = titanic_df['Embarked'].fillna('S')\n",
    "del titanic_df['Name']\n",
    "del titanic_df['Ticket']\n",
    "del titanic_df['Cabin']"
   ]
  },
  {
   "cell_type": "markdown",
   "metadata": {
    "deletable": true,
    "editable": true
   },
   "source": [
    "Now let's take another look at the data to make sure the changes took effect."
   ]
  },
  {
   "cell_type": "code",
   "execution_count": 9,
   "metadata": {
    "collapsed": false,
    "deletable": true,
    "editable": true
   },
   "outputs": [
    {
     "data": {
      "text/html": [
       "<div>\n",
       "<table border=\"1\" class=\"dataframe\">\n",
       "  <thead>\n",
       "    <tr style=\"text-align: right;\">\n",
       "      <th></th>\n",
       "      <th>PassengerId</th>\n",
       "      <th>Survived</th>\n",
       "      <th>Pclass</th>\n",
       "      <th>Sex</th>\n",
       "      <th>Age</th>\n",
       "      <th>SibSp</th>\n",
       "      <th>Parch</th>\n",
       "      <th>Fare</th>\n",
       "      <th>Embarked</th>\n",
       "    </tr>\n",
       "  </thead>\n",
       "  <tbody>\n",
       "    <tr>\n",
       "      <th>count</th>\n",
       "      <td>891.000000</td>\n",
       "      <td>891.000000</td>\n",
       "      <td>891.000000</td>\n",
       "      <td>891</td>\n",
       "      <td>891.000000</td>\n",
       "      <td>891.000000</td>\n",
       "      <td>891.000000</td>\n",
       "      <td>891.000000</td>\n",
       "      <td>891</td>\n",
       "    </tr>\n",
       "    <tr>\n",
       "      <th>unique</th>\n",
       "      <td>NaN</td>\n",
       "      <td>NaN</td>\n",
       "      <td>NaN</td>\n",
       "      <td>2</td>\n",
       "      <td>NaN</td>\n",
       "      <td>NaN</td>\n",
       "      <td>NaN</td>\n",
       "      <td>NaN</td>\n",
       "      <td>3</td>\n",
       "    </tr>\n",
       "    <tr>\n",
       "      <th>top</th>\n",
       "      <td>NaN</td>\n",
       "      <td>NaN</td>\n",
       "      <td>NaN</td>\n",
       "      <td>male</td>\n",
       "      <td>NaN</td>\n",
       "      <td>NaN</td>\n",
       "      <td>NaN</td>\n",
       "      <td>NaN</td>\n",
       "      <td>S</td>\n",
       "    </tr>\n",
       "    <tr>\n",
       "      <th>freq</th>\n",
       "      <td>NaN</td>\n",
       "      <td>NaN</td>\n",
       "      <td>NaN</td>\n",
       "      <td>577</td>\n",
       "      <td>NaN</td>\n",
       "      <td>NaN</td>\n",
       "      <td>NaN</td>\n",
       "      <td>NaN</td>\n",
       "      <td>646</td>\n",
       "    </tr>\n",
       "    <tr>\n",
       "      <th>mean</th>\n",
       "      <td>446.000000</td>\n",
       "      <td>0.383838</td>\n",
       "      <td>2.308642</td>\n",
       "      <td>NaN</td>\n",
       "      <td>29.699118</td>\n",
       "      <td>0.523008</td>\n",
       "      <td>0.381594</td>\n",
       "      <td>32.204208</td>\n",
       "      <td>NaN</td>\n",
       "    </tr>\n",
       "    <tr>\n",
       "      <th>std</th>\n",
       "      <td>257.353842</td>\n",
       "      <td>0.486592</td>\n",
       "      <td>0.836071</td>\n",
       "      <td>NaN</td>\n",
       "      <td>13.002015</td>\n",
       "      <td>1.102743</td>\n",
       "      <td>0.806057</td>\n",
       "      <td>49.693429</td>\n",
       "      <td>NaN</td>\n",
       "    </tr>\n",
       "    <tr>\n",
       "      <th>min</th>\n",
       "      <td>1.000000</td>\n",
       "      <td>0.000000</td>\n",
       "      <td>1.000000</td>\n",
       "      <td>NaN</td>\n",
       "      <td>0.420000</td>\n",
       "      <td>0.000000</td>\n",
       "      <td>0.000000</td>\n",
       "      <td>0.000000</td>\n",
       "      <td>NaN</td>\n",
       "    </tr>\n",
       "    <tr>\n",
       "      <th>25%</th>\n",
       "      <td>223.500000</td>\n",
       "      <td>0.000000</td>\n",
       "      <td>2.000000</td>\n",
       "      <td>NaN</td>\n",
       "      <td>22.000000</td>\n",
       "      <td>0.000000</td>\n",
       "      <td>0.000000</td>\n",
       "      <td>7.910400</td>\n",
       "      <td>NaN</td>\n",
       "    </tr>\n",
       "    <tr>\n",
       "      <th>50%</th>\n",
       "      <td>446.000000</td>\n",
       "      <td>0.000000</td>\n",
       "      <td>3.000000</td>\n",
       "      <td>NaN</td>\n",
       "      <td>29.699118</td>\n",
       "      <td>0.000000</td>\n",
       "      <td>0.000000</td>\n",
       "      <td>14.454200</td>\n",
       "      <td>NaN</td>\n",
       "    </tr>\n",
       "    <tr>\n",
       "      <th>75%</th>\n",
       "      <td>668.500000</td>\n",
       "      <td>1.000000</td>\n",
       "      <td>3.000000</td>\n",
       "      <td>NaN</td>\n",
       "      <td>35.000000</td>\n",
       "      <td>1.000000</td>\n",
       "      <td>0.000000</td>\n",
       "      <td>31.000000</td>\n",
       "      <td>NaN</td>\n",
       "    </tr>\n",
       "    <tr>\n",
       "      <th>max</th>\n",
       "      <td>891.000000</td>\n",
       "      <td>1.000000</td>\n",
       "      <td>3.000000</td>\n",
       "      <td>NaN</td>\n",
       "      <td>80.000000</td>\n",
       "      <td>8.000000</td>\n",
       "      <td>6.000000</td>\n",
       "      <td>512.329200</td>\n",
       "      <td>NaN</td>\n",
       "    </tr>\n",
       "  </tbody>\n",
       "</table>\n",
       "</div>"
      ],
      "text/plain": [
       "        PassengerId    Survived      Pclass   Sex         Age       SibSp  \\\n",
       "count    891.000000  891.000000  891.000000   891  891.000000  891.000000   \n",
       "unique          NaN         NaN         NaN     2         NaN         NaN   \n",
       "top             NaN         NaN         NaN  male         NaN         NaN   \n",
       "freq            NaN         NaN         NaN   577         NaN         NaN   \n",
       "mean     446.000000    0.383838    2.308642   NaN   29.699118    0.523008   \n",
       "std      257.353842    0.486592    0.836071   NaN   13.002015    1.102743   \n",
       "min        1.000000    0.000000    1.000000   NaN    0.420000    0.000000   \n",
       "25%      223.500000    0.000000    2.000000   NaN   22.000000    0.000000   \n",
       "50%      446.000000    0.000000    3.000000   NaN   29.699118    0.000000   \n",
       "75%      668.500000    1.000000    3.000000   NaN   35.000000    1.000000   \n",
       "max      891.000000    1.000000    3.000000   NaN   80.000000    8.000000   \n",
       "\n",
       "             Parch        Fare Embarked  \n",
       "count   891.000000  891.000000      891  \n",
       "unique         NaN         NaN        3  \n",
       "top            NaN         NaN        S  \n",
       "freq           NaN         NaN      646  \n",
       "mean      0.381594   32.204208      NaN  \n",
       "std       0.806057   49.693429      NaN  \n",
       "min       0.000000    0.000000      NaN  \n",
       "25%       0.000000    7.910400      NaN  \n",
       "50%       0.000000   14.454200      NaN  \n",
       "75%       0.000000   31.000000      NaN  \n",
       "max       6.000000  512.329200      NaN  "
      ]
     },
     "execution_count": 9,
     "metadata": {},
     "output_type": "execute_result"
    }
   ],
   "source": [
    "titanic_df.describe(include='all')"
   ]
  },
  {
   "cell_type": "markdown",
   "metadata": {
    "deletable": true,
    "editable": true
   },
   "source": [
    "I wanted to know a bit more about the dat and survival rates, so I created graphs of data to compare specific categoties on survival rate.  First, I grouped the age into four specific categories: Child, Adult, Mid-Age, and Elderly"
   ]
  },
  {
   "cell_type": "code",
   "execution_count": 10,
   "metadata": {
    "collapsed": false,
    "deletable": true,
    "editable": true
   },
   "outputs": [],
   "source": [
    "def age_grouping(age):\n",
    "    if age >= 65:\n",
    "        return 'Elderly'\n",
    "    elif age >= 40:\n",
    "        return 'Mid-Age'\n",
    "    elif age >= 18:\n",
    "        return 'Adult'\n",
    "    else:\n",
    "        return 'Child'\n",
    "\n",
    "titanic_df['AgeGr'] = titanic_df['Age'].apply(age_grouping)"
   ]
  },
  {
   "cell_type": "code",
   "execution_count": 11,
   "metadata": {
    "collapsed": false,
    "deletable": true,
    "editable": true
   },
   "outputs": [
    {
     "name": "stdout",
     "output_type": "stream",
     "text": [
      "Populating the interactive namespace from numpy and matplotlib\n"
     ]
    },
    {
     "data": {
      "text/plain": [
       "<seaborn.axisgrid.FacetGrid at 0x11df0f490>"
      ]
     },
     "execution_count": 11,
     "metadata": {},
     "output_type": "execute_result"
    },
    {
     "data": {
      "image/png": "[encoded data removed]",
      "text/plain": [
       "<matplotlib.figure.Figure at 0x11a72d390>"
      ]
     },
     "metadata": {},
     "output_type": "display_data"
    },
    {
     "data": {
      "image/png": "[encoded data removed]",
      "text/plain": [
       "<matplotlib.figure.Figure at 0x11a8a8250>"
      ]
     },
     "metadata": {},
     "output_type": "display_data"
    },
    {
     "data": {
      "image/png": "[encoded data removed]",
      "text/plain": [
       "<matplotlib.figure.Figure at 0x11de03dd0>"
      ]
     },
     "metadata": {},
     "output_type": "display_data"
    },
    {
     "data": {
      "image/png": "[encoded data removed]",
      "text/plain": [
       "<matplotlib.figure.Figure at 0x11dd91490>"
      ]
     },
     "metadata": {},
     "output_type": "display_data"
    },
    {
     "data": {
      "image/png": "[encoded data removed]",
      "text/plain": [
       "<matplotlib.figure.Figure at 0x11dfa40d0>"
      ]
     },
     "metadata": {},
     "output_type": "display_data"
    },
    {
     "data": {
      "image/png": "[encoded data removed]",
      "text/plain": [
       "<matplotlib.figure.Figure at 0x11de03c10>"
      ]
     },
     "metadata": {},
     "output_type": "display_data"
    }
   ],
   "source": [
    "%pylab inline\n",
    "sns.factorplot('Pclass','Survived', data = titanic_df, kind = 'bar')\n",
    "sns.factorplot('Sex','Survived', data = titanic_df, kind = 'bar')\n",
    "sns.factorplot('AgeGr','Survived', data = titanic_df, kind = 'bar')\n",
    "sns.factorplot('SibSp','Survived', data = titanic_df, kind = 'bar')\n",
    "sns.factorplot('Parch','Survived', data = titanic_df, kind = 'bar')\n",
    "sns.factorplot('Embarked','Survived', data = titanic_df, kind = 'bar')"
   ]
  },
  {
   "cell_type": "markdown",
   "metadata": {
    "deletable": true,
    "editable": true
   },
   "source": [
    "The graphs help claify a lot of information in the data.  I am going to go through each graph and communicate the most interesting facts that I have found from the data.\n",
    "* **Passenger Class** - This information is very interesting to say the least.  First class passengers were more likely to survive compared to second class passengers, and second class passengers were more likely to survive than third class.  With this downward trend it is easy to say that the higher your class on the ship, the more likely you were to survive.\n",
    "* **Sex** - The sex of the passengers who survived was an expected outcome.  As most people who have seen the movie titanic, they know that women and children were the first on the life boats.\n",
    "* **Age Group** - This was somewhat an unexpected outcome for the adult category.  Noting that we filled the mean age into blank cells earlier in this experiment, I had expected this to be one of the highest groups.  Seeing that this is the second lowest category, it means that adults between the age of 18 and 39 were less likely to survive than the middle aged passengers between the age of 40 and 64.\n",
    "* **Embarked** - I thought it was a fun fact that the passengers who embarked from Cherbourg were more likely to survive than other passengers.  It may be likely that these passengers were mainly women and children or more passengers embarked from this location.\n",
    "* **Siblings/Spouse & Parent/Children** - These charts were less informative than expected, other than the fact that you would be most likely to survive with 3 parents/children than you would any other amount of children."
   ]
  },
  {
   "cell_type": "markdown",
   "metadata": {
    "deletable": true,
    "editable": true
   },
   "source": [
    "# Conclusion"
   ]
  },
  {
   "cell_type": "markdown",
   "metadata": {
    "deletable": true,
    "editable": true
   },
   "source": [
    "In Conclusion, the differences between age, sex, and class specify the most unique differences between the categories of passengers who survived and died.  Looking at the chart below, you can see that the higher class were more likely to survive in every category.  Also, women and children were more likely to survive than men 18 and older.  With the mean age of 29 added in for passengers missing age, there were still higher class and mid-aged passengers than the audult category.  This shows that even though a lot of passengers were added into the adult category, it still kept the distribution close to how it should have been represented with the proper age."
   ]
  },
  {
   "cell_type": "code",
   "execution_count": 12,
   "metadata": {
    "collapsed": false,
    "deletable": true,
    "editable": true
   },
   "outputs": [
    {
     "data": {
      "text/plain": [
       "<seaborn.axisgrid.FacetGrid at 0x11a7e7e10>"
      ]
     },
     "execution_count": 12,
     "metadata": {},
     "output_type": "execute_result"
    },
    {
     "data": {
      "image/png": "[encoded data removed]",
      "text/plain": [
       "<matplotlib.figure.Figure at 0x11a7e7490>"
      ]
     },
     "metadata": {},
     "output_type": "display_data"
    }
   ],
   "source": [
    "\n",
    "sns.factorplot(x='Pclass', y='Survived', col='AgeGr', row='Sex', data=titanic_df, kind=\"bar\")"
   ]
  },
  {
   "cell_type": "markdown",
   "metadata": {},
   "source": [
    "# Limitations"
   ]
  },
  {
   "cell_type": "markdown",
   "metadata": {},
   "source": [
    "While looking throught the results of the data, I did notice one major limitation of the data I was working with, and that is the age section.  Without the propper age, it is tough to compare the age of the passenger to the survival rate.  While looking at the age distribution notice that there is a large spike in the age section, which is due to adding the mean age to passengers without an age in the data."
   ]
  },
  {
   "cell_type": "code",
   "execution_count": 13,
   "metadata": {
    "collapsed": false,
    "deletable": true,
    "editable": true
   },
   "outputs": [
    {
     "data": {
      "image/png": "[encoded data removed]",
      "text/plain": [
       "<matplotlib.figure.Figure at 0x11e395490>"
      ]
     },
     "metadata": {},
     "output_type": "display_data"
    }
   ],
   "source": [
    "sns.distplot(titanic_df.loc[(titanic_df['Survived']==0) & (~titanic_df['Age'].isnull()),'Age'], bins=30)\n",
    "sns.distplot(titanic_df.loc[(titanic_df['Survived']==1) & (~titanic_df['Age'].isnull()),'Age'], bins=30)\n",
    "plt.title('age distribution among survival classes')\n",
    "plt.ylabel('frequency')\n",
    "plt.legend(['did not survive', 'survived']);"
   ]
  }
 ],
 "metadata": {
  "kernelspec": {
   "display_name": "Python 2",
   "language": "python",
   "name": "python2"
  },
  "language_info": {
   "codemirror_mode": {
    "name": "ipython",
    "version": 2
   },
   "file_extension": ".py",
   "mimetype": "text/x-python",
   "name": "python",
   "nbconvert_exporter": "python",
   "pygments_lexer": "ipython2",
   "version": "2.7.13"
  }
 },
 "nbformat": 4,
 "nbformat_minor": 2
}
